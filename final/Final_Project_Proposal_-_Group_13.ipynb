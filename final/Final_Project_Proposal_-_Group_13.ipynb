{
 "cells": [
  {
   "cell_type": "markdown",
   "id": "e5a6c0f4-4d92-4e0c-8268-dd3e2b2f34f8",
   "metadata": {},
   "source": [
    "# CSCI 2000U - Scientific Data Analysis\n",
    "## Final Project Proposal - Group 13\n",
    "\n",
    "> You can work with 4 people.\n",
    "> Collaboration *between* groups will be considered as plagiarism.\n",
    "\n",
    "**Due date:** Oct 29nd 11:59PM via Canvas..\n",
    "\n",
    "**Group Names**<br>\n",
    "*Vishwaajeeth Kamalakkannan - 100786336*<br>\n",
    "*Haider bajwa - 100785287*<br>\n",
    "*Vrund Patel - 100780642*<br>\n",
    "*Fahad Fauzan - 100786544*<br>"
   ]
  },
  {
   "cell_type": "markdown",
   "id": "44123a20-bd42-4563-a5da-3f1da6857b69",
   "metadata": {},
   "source": [
    "\n",
    "- **Part 1:** Getting to know your data \n",
    "- **Part 2:** Proposal and motivation\n",
    "\n",
    "## The dataset\n",
    "**Ontario COVID-19 outbreaks data\n",
    "**\n",
    "\n",
    "*Source: https://data.ontario.ca/dataset/ontario-covid-19-outbreaks-data/resource/66d15cce-bfee-4f91-9e6e-0ea79ec52b3d*\n",
    "\n",
    "This dataset compiles daily snapshots of publicly reported data on Coronavirus (COVID-19) outbreaks in Ontario.<br>\n",
    "\n",
    "Data includes:\n",
    "- Summary of cases associated with outbreaks, by outbreak setting and date<br>\n",
    "- Summary of ongoing outbreaks by outbreak setting<br>\n",
    "- Summary of ongoing outbreaks by Public Health Unit (PHU)<br>\n",
    "- The data is split into main groups, as well as smaller more specific subgroups. E.g ( Main group: education, Subgroup : School - Elementary)\n",
    "\n",
    "\n",
    "Attributes:\n",
    "- date : Date of data collection\n",
    "- outbreak_group : Main group category for infections\n",
    "- outbreak_subgroup: Subgroup group category for infections(More Specific than outbreak_group)\n",
    "- number_ongoing_outbreaks : daily updated outbreak number"
   ]
  },
  {
   "cell_type": "code",
   "execution_count": null,
   "metadata": {},
   "outputs": [],
   "source": []
  },
  {
   "cell_type": "code",
   "execution_count": 4,
   "id": "1cc27bc1-f229-4151-a13c-325c8bc4c6be",
   "metadata": {},
   "outputs": [],
   "source": [
    "#importing used libraries\n",
    "import csv\n",
    "import re\n",
    "from functools import reduce\n",
    "import numpy as np\n",
    "\n",
    "# this aux function reads the CSV file and returns the data in a Python dictionary\n",
    "def get_data_csv():\n",
    "    collection = []\n",
    "    with open('ongoing_outbreaks.csv', 'r') as f:\n",
    "        for line in csv.DictReader(f):\n",
    "            collection.append(line)\n",
    "        return collection\n",
    "        \n",
    "# the data    \n",
    "data = get_data_csv()\n",
    "\n",
    "#converting data to numpy\n",
    "data_numpy = np.array(data)"
   ]
  },
  {
   "cell_type": "markdown",
   "id": "16778f3a-b2a6-4c0c-9782-cbc2cb69f2ec",
   "metadata": {},
   "source": [
    "## Part 1\n",
    "\n",
    "*Getting to know your data*\n",
    "\n",
    "It's important to know more about your data before you start calculating, sorting, and grouping data to extract information. This way you will have a further understanding of what to expect, therefore, easier to validate your data analysis results.\n",
    "\n",
    "1. How many data records do you have? Print how many records.\n",
    "2. What do the few first records look like? Display the top 5 records.\n",
    "3. Are all outbreak groups unique in this dataset? If not, how many are unique?\n",
    "4. Are all sub-outbreak groups unique in this dataset? If not, how many are unique?\n",
    "5. What is the dataset's range of years (oldest and newest)? Display the range.\n",
    "6. How many total ongoing outbreaks are there."
   ]
  },
  {
   "cell_type": "code",
   "execution_count": 5,
   "id": "ef0e125f",
   "metadata": {},
   "outputs": [
    {
     "name": "stdout",
     "output_type": "stream",
     "text": [
      "#1: There are 8085 records\n"
     ]
    }
   ],
   "source": [
    "#1\n",
    "Q1 = \"#1: There are {recordNum} records\".format(recordNum = len(data_numpy))\n",
    "print(Q1)"
   ]
  },
  {
   "cell_type": "code",
   "execution_count": 6,
   "id": "5d7fb102",
   "metadata": {},
   "outputs": [
    {
     "name": "stdout",
     "output_type": "stream",
     "text": [
      "#2: First 5 records are:\n",
      "\n",
      "[{'date': '2020-11-01', 'outbreak_group': '1 Congregate Care', 'outbreak_subgroup': '1 Long-Term Care Homes', 'number_ongoing_outbreaks': '73'}\n",
      " {'date': '2020-11-01', 'outbreak_group': '1 Congregate Care', 'outbreak_subgroup': '2 Hospitals', 'number_ongoing_outbreaks': '21'}\n",
      " {'date': '2020-11-01', 'outbreak_group': '1 Congregate Care', 'outbreak_subgroup': '3 Retirement Homes', 'number_ongoing_outbreaks': '51'}\n",
      " {'date': '2020-11-01', 'outbreak_group': '2 Congregate Living', 'outbreak_subgroup': '18 Short-term accommodations', 'number_ongoing_outbreaks': '2'}\n",
      " {'date': '2020-11-01', 'outbreak_group': '2 Congregate Living', 'outbreak_subgroup': '4 Group Home/Supportive Housing', 'number_ongoing_outbreaks': '31'}]\n"
     ]
    }
   ],
   "source": [
    "#2\n",
    "Q2 = \"#2: First 5 records are:\"\n",
    "print(Q2)\n",
    "print()\n",
    "print(data_numpy[0:5])"
   ]
  },
  {
   "cell_type": "code",
   "execution_count": 7,
   "id": "c0bc63de",
   "metadata": {},
   "outputs": [
    {
     "name": "stdout",
     "output_type": "stream",
     "text": [
      "#3: There are 7 unique outbreak groups \n"
     ]
    }
   ],
   "source": [
    "#3\n",
    "unique_games = 0\n",
    "names = [x['outbreak_group'] for x in data_numpy] #holds all the game names\n",
    "names_type = []\n",
    "\n",
    "#converting names to numpy\n",
    "names_numpy = np.array(names)\n",
    "\n",
    "for j in names:\n",
    "    if(j not in names_type): #if genre not in genre_type array\n",
    "        names_type.append(j) #adds genre\n",
    "             \n",
    "Q3 = \"#3: There are {0} unique outbreak groups \".format(len(names_type))\n",
    "print(Q3)"
   ]
  },
  {
   "cell_type": "code",
   "execution_count": 8,
   "id": "ecd13284",
   "metadata": {},
   "outputs": [
    {
     "name": "stdout",
     "output_type": "stream",
     "text": [
      "#3: There are 28 unique outbreak subgroups \n"
     ]
    }
   ],
   "source": [
    "#4\n",
    "unique_games = 0\n",
    "names = [x['outbreak_subgroup'] for x in data_numpy] #holds all the game names\n",
    "names_type = []\n",
    "\n",
    "#converting names to numpy\n",
    "names_numpy = np.array(names)\n",
    "\n",
    "for j in names:\n",
    "    if(j not in names_type): #if genre not in genre_type array\n",
    "        names_type.append(j) #adds genre\n",
    "             \n",
    "Q3 = \"#3: There are {0} unique outbreak subgroups \".format(len(names_type))\n",
    "print(Q3)"
   ]
  },
  {
   "cell_type": "code",
   "execution_count": 9,
   "id": "8605cf4c",
   "metadata": {},
   "outputs": [
    {
     "name": "stdout",
     "output_type": "stream",
     "text": [
      "The range of years is: 2020-11-01 - 2021-10-28\n"
     ]
    }
   ],
   "source": [
    "#5\n",
    "year = [x['date'] for x in data_numpy if x['date'] != 'N/A'] #holds all the years\n",
    "\n",
    "#converting year to numpy\n",
    "year_numpy = np.array(year)\n",
    "\n",
    "#sorting year_numpy\n",
    "sorted_year_numpy = np.sort(year_numpy)\n",
    "\n",
    "Q4 = \"The range of years is: {0} - {1}\".format(sorted_year_numpy[0],sorted_year_numpy[len(sorted_year_numpy)-1])\n",
    "print(Q4)"
   ]
  },
  {
   "cell_type": "code",
   "execution_count": 10,
   "id": "f11dfc72",
   "metadata": {},
   "outputs": [
    {
     "name": "stdout",
     "output_type": "stream",
     "text": [
      "The total number of ongoing outbreaks ( As of October 28th) are : 180987\n"
     ]
    }
   ],
   "source": [
    "#6\n",
    "outbreaks = [int(x['number_ongoing_outbreaks']) for x in data_numpy]\n",
    "\n",
    "outbreaks = sum(outbreaks)\n",
    "print(\"The total number of ongoing outbreaks ( As of October 28th) are : {0}\".format(outbreaks))"
   ]
  },
  {
   "cell_type": "markdown",
   "id": "620cb7d6",
   "metadata": {},
   "source": [
    "## Part 2\n",
    "\n",
    "*Proposal and motivation*\n",
    "\n",
    "**Why did you choose this dataset over others?** \n",
    "The reason we chose this data set was mainly due to the fact that covid has affected us all greatly, it this project was a great way to better understand covid, and the effects it's had around us.<br>\n",
    "\n",
    "**Was there any other dataset you also found interesting?**\n",
    "Another data set that we found interesting was the covid-19 outbreaks by the public health unit where they analyzed the different outbreaks taking place in municipalities, emphasizing on the location of infection such as workplace etc. We ultimately decided to not use that data set as the one we are working on is more recent.<br>\n",
    " \n",
    "**What are the data analysis questions you want to use this dataset for?\n",
    "At least 5 questions for proposal, you may include more questions\n",
    "in the actual final project report**\n",
    "1. Which Subgroup has the most outbreaks? Which subgroup has the least?\n",
    "2. According to the data, which subgroup has been the most vulnerable to covid -19?\n",
    "3. According to the data, which group has been the most affected by covid-19\n",
    "4. When did the number of outbreaks increase?\n",
    "5. When did the number of outbreaks decrease? \n",
    "6. The province has been pushing the idea of having a “safe and normal” return to school this september,\n",
    "   but has it really been? ( We will compare the average cases and see if there's any influx of cases \n",
    "   since School opened)<br>\n",
    " \n",
    "**What methods do you expect to apply when you process the data\n",
    "to answer these questions?**\n",
    "1. First find how long the file is (ex how many total ids there are)\n",
    "2. Find from what date did the data collected started from\n",
    "3. How many outbreak groups are there\n",
    "4. How many sub outbreak groups are there\n",
    "5. Use strategic methods such as filter,map,reduce, list comprehension etc to help us find the above as well as split them into \n",
    "   Separate lists<br>\n",
    " \n",
    "**Do you see any potential for data science applications using this data?**<br>\n",
    "There is a lot of potential for data science applications using this data. The ongoing outbreak data can be used as a basis for models of prediction. We can use the data we currently have to prevent future outbreaks from happening. For example if there are more outbreaks happening in schools, we can restrict the access that students and teachers have to schools (make it online). \n"
   ]
  }
 ],
 "metadata": {
  "kernelspec": {
   "display_name": "Python 3 (ipykernel)",
   "language": "python",
   "name": "python3"
  },
  "language_info": {
   "codemirror_mode": {
    "name": "ipython",
    "version": 3
   },
   "file_extension": ".py",
   "mimetype": "text/x-python",
   "name": "python",
   "nbconvert_exporter": "python",
   "pygments_lexer": "ipython3",
   "version": "3.8.12"
  }
 },
 "nbformat": 4,
 "nbformat_minor": 5
}
