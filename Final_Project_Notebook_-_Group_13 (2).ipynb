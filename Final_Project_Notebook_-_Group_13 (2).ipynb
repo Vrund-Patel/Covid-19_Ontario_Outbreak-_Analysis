{
 "cells": [
  {
   "cell_type": "markdown",
   "id": "5482fb08",
   "metadata": {},
   "source": [
    "# CSCI 2000U - Scientific Data Analysis\n",
    "## Final Project - Group 13\n",
    "\n",
    "> You can work with 4 people.\n",
    "> Collaboration *between* groups will be considered as plagiarism.\n",
    "\n",
    "**Due date:** Dec 6th 11:59PM via Canvas..\n",
    "\n",
    "**Group Names**<br>\n",
    "*Vishwaajeeth Kamalakkannan*<br>\n",
    "*Haider bajwa*<br>\n",
    "*Vrund Patel*<br>\n",
    "*Fahad Fauzan*<br>\n",
    "\n",
    "**Contribution**<br>\n",
    "*Vishwaajeeth Kamalakkannan- Contributed to everything*<br>\n",
    "*Haider bajwa- Contributed to everything*<br>\n",
    "*Vrund Patel- Contributed to everything*<br>\n",
    "*Fahad Fauzan- Contributed to everything*<br>\n",
    "\n",
    "**We all contributed equally to the project, we all did the project together on a video call!**\n"
   ]
  },
  {
   "cell_type": "markdown",
   "id": "c5eee509",
   "metadata": {},
   "source": [
    "### Introduction\n",
    "\n",
    "Our data set contains a summary of cases associated with outbreaks, by outbreak setting and date, along with a\n",
    "summary of ongoing outbreaks by outbreak setting and a summary of ongoing outbreaks by Public Health Unit (PHU), which was all obtained through <https://data.ontario.ca/dataset/ontario-covid-19-outbreaks-data/resource/66d15cce-bfee-4f91-9e6e-0ea79ec52b3d>\n",
    "The data is split into main groups, as well as smaller more specific subgroups. The reason we chose this data set was mainly\n",
    "due to the fact that covid has affected us all greatly, it this project was a great way to better\n",
    "understand covid, and the effects it's had around us.\n",
    "\n",
    "Over the past year, the world has been shaken by the novel Corona virus. From schools to work, the way we do everything has changed. What's important for us now is to learn how we can overcome this epedemic and that is where data analysis is very crucial. In this report we will be analyzing outbreaks across Ontario and looking into important details such as which group was most affected?When did the number of outbreaks increase and how the return of school has had on cases."
   ]
  },
  {
   "cell_type": "markdown",
   "id": "f8cc11c4",
   "metadata": {},
   "source": [
    "## The dataset\n",
    "**Ontario COVID-19 outbreaks data\n",
    "**\n",
    "\n",
    "*Source: https://data.ontario.ca/dataset/ontario-covid-19-outbreaks-data/resource/66d15cce-bfee-4f91-9e6e-0ea79ec52b3d*\n",
    "\n",
    "This dataset compiles daily snapshots of publicly reported data on Coronavirus (COVID-19) outbreaks in Ontario.<br>\n",
    "\n",
    "Data includes:\n",
    "- Summary of cases associated with outbreaks, by outbreak setting and date<br>\n",
    "- Summary of ongoing outbreaks by outbreak setting<br>\n",
    "- Summary of ongoing outbreaks by Public Health Unit (PHU)<br>\n",
    "- The data is split into main groups, as well as smaller more specific subgroups. E.g ( Main group: education, Subgroup : School - Elementary)\n",
    "\n",
    "\n",
    "Attributes:\n",
    "- date : Date of data collection\n",
    "- outbreak_group : Main group category for infections\n",
    "- outbreak_subgroup: Subgroup group category for infections(More Specific than outbreak_group)\n",
    "- number_ongoing_outbreaks : daily updated outbreak number\n",
    "\n",
    "The second dataset we used in this project was \"Case rates by vaccination status and age group\" also provided through data.ontario \n",
    "\n",
    "*Source: https://data.ontario.ca/dataset/covid-19-vaccine-data-in-ontario/resource/c08620e0-a055-4d35-8cec-875a459642c3*\n",
    "\n",
    "This dataset focuses on the outbreak rates per different vaccination status across different age groups. It includes the dates and the following age groups:\n",
    "Data includes:\n",
    "- 0-11 years\n",
    "- 12-17 years\n",
    "- 18-39 years\n",
    "- 40-59 years\n",
    "- 60-79 years\n",
    "- 80+ years\n",
    "- 0-11 years\n",
    "\n",
    "Other than the ager groups, the data set includes categories of the following to help us better understand outbreaks relations to vaccination status:\n",
    "- cases_unvac_rate_per100K : unvaccinated group\n",
    "- cases_partial_vac_rate_per100K : partially vaccinated group\n",
    "- cases_full_vac_rate_per100K : fully vaccinated group\n",
    "- cases_unvac_rate_7ma : unvaccinated group 7 day moving average\n",
    "- cases_partial_vac_rate_7ma: partially partially vaccinated groupvaccinated group 7 day moving average\n",
    "- cases_full_vac_rate_7ma : fully vaccinated group 7 day moving average\n",
    "\n",
    "#### Data Cleaning\n",
    "\n",
    "We had no data to clean, Data.Ontario's data was already cleaned with no blank space or errors!"
   ]
  },
  {
   "cell_type": "markdown",
   "id": "d1954784",
   "metadata": {},
   "source": [
    "### Data Exploration"
   ]
  },
  {
   "cell_type": "markdown",
   "id": "95018627",
   "metadata": {},
   "source": [
    "### 1. Which Subgroup has the most outbreaks? Which subgroup has the least?"
   ]
  },
  {
   "cell_type": "code",
   "execution_count": 1,
   "id": "5b8df877",
   "metadata": {},
   "outputs": [
    {
     "data": {
      "text/html": [
       "<div>\n",
       "<style scoped>\n",
       "    .dataframe tbody tr th:only-of-type {\n",
       "        vertical-align: middle;\n",
       "    }\n",
       "\n",
       "    .dataframe tbody tr th {\n",
       "        vertical-align: top;\n",
       "    }\n",
       "\n",
       "    .dataframe thead th {\n",
       "        text-align: right;\n",
       "    }\n",
       "</style>\n",
       "<table border=\"1\" class=\"dataframe\">\n",
       "  <thead>\n",
       "    <tr style=\"text-align: right;\">\n",
       "      <th></th>\n",
       "      <th>date</th>\n",
       "      <th>outbreak_group</th>\n",
       "      <th>outbreak_subgroup</th>\n",
       "      <th>number_ongoing_outbreaks</th>\n",
       "    </tr>\n",
       "  </thead>\n",
       "  <tbody>\n",
       "    <tr>\n",
       "      <th>0</th>\n",
       "      <td>2020-11-01</td>\n",
       "      <td>1 Congregate Care</td>\n",
       "      <td>1 Long-Term Care Homes</td>\n",
       "      <td>73</td>\n",
       "    </tr>\n",
       "    <tr>\n",
       "      <th>1</th>\n",
       "      <td>2020-11-01</td>\n",
       "      <td>1 Congregate Care</td>\n",
       "      <td>2 Hospitals</td>\n",
       "      <td>21</td>\n",
       "    </tr>\n",
       "    <tr>\n",
       "      <th>2</th>\n",
       "      <td>2020-11-01</td>\n",
       "      <td>1 Congregate Care</td>\n",
       "      <td>3 Retirement Homes</td>\n",
       "      <td>51</td>\n",
       "    </tr>\n",
       "    <tr>\n",
       "      <th>3</th>\n",
       "      <td>2020-11-01</td>\n",
       "      <td>2 Congregate Living</td>\n",
       "      <td>18 Short-term accommodations</td>\n",
       "      <td>2</td>\n",
       "    </tr>\n",
       "    <tr>\n",
       "      <th>4</th>\n",
       "      <td>2020-11-01</td>\n",
       "      <td>2 Congregate Living</td>\n",
       "      <td>4 Group Home/Supportive Housing</td>\n",
       "      <td>31</td>\n",
       "    </tr>\n",
       "    <tr>\n",
       "      <th>...</th>\n",
       "      <td>...</td>\n",
       "      <td>...</td>\n",
       "      <td>...</td>\n",
       "      <td>...</td>\n",
       "    </tr>\n",
       "    <tr>\n",
       "      <th>8080</th>\n",
       "      <td>2021-10-28</td>\n",
       "      <td>4 Workplace</td>\n",
       "      <td>16 Medical/Health Service</td>\n",
       "      <td>1</td>\n",
       "    </tr>\n",
       "    <tr>\n",
       "      <th>8081</th>\n",
       "      <td>2021-10-28</td>\n",
       "      <td>5 Recreational</td>\n",
       "      <td>17 Bar/restaurant/nightclub</td>\n",
       "      <td>8</td>\n",
       "    </tr>\n",
       "    <tr>\n",
       "      <th>8082</th>\n",
       "      <td>2021-10-28</td>\n",
       "      <td>5 Recreational</td>\n",
       "      <td>19 Recreational fitness</td>\n",
       "      <td>2</td>\n",
       "    </tr>\n",
       "    <tr>\n",
       "      <th>8083</th>\n",
       "      <td>2021-10-28</td>\n",
       "      <td>5 Recreational</td>\n",
       "      <td>21 Other recreation</td>\n",
       "      <td>8</td>\n",
       "    </tr>\n",
       "    <tr>\n",
       "      <th>8084</th>\n",
       "      <td>2021-10-28</td>\n",
       "      <td>6 Other/Unknown</td>\n",
       "      <td>24 Unknown</td>\n",
       "      <td>16</td>\n",
       "    </tr>\n",
       "  </tbody>\n",
       "</table>\n",
       "<p>8085 rows × 4 columns</p>\n",
       "</div>"
      ],
      "text/plain": [
       "            date       outbreak_group                outbreak_subgroup  \\\n",
       "0     2020-11-01    1 Congregate Care           1 Long-Term Care Homes   \n",
       "1     2020-11-01    1 Congregate Care                      2 Hospitals   \n",
       "2     2020-11-01    1 Congregate Care               3 Retirement Homes   \n",
       "3     2020-11-01  2 Congregate Living     18 Short-term accommodations   \n",
       "4     2020-11-01  2 Congregate Living  4 Group Home/Supportive Housing   \n",
       "...          ...                  ...                              ...   \n",
       "8080  2021-10-28          4 Workplace        16 Medical/Health Service   \n",
       "8081  2021-10-28       5 Recreational      17 Bar/restaurant/nightclub   \n",
       "8082  2021-10-28       5 Recreational          19 Recreational fitness   \n",
       "8083  2021-10-28       5 Recreational              21 Other recreation   \n",
       "8084  2021-10-28      6 Other/Unknown                       24 Unknown   \n",
       "\n",
       "      number_ongoing_outbreaks  \n",
       "0                           73  \n",
       "1                           21  \n",
       "2                           51  \n",
       "3                            2  \n",
       "4                           31  \n",
       "...                        ...  \n",
       "8080                         1  \n",
       "8081                         8  \n",
       "8082                         2  \n",
       "8083                         8  \n",
       "8084                        16  \n",
       "\n",
       "[8085 rows x 4 columns]"
      ]
     },
     "execution_count": 1,
     "metadata": {},
     "output_type": "execute_result"
    }
   ],
   "source": [
    "#importing used libraries\n",
    "import numpy as np\n",
    "import pandas as pd\n",
    "import matplotlib.pyplot as plt\n",
    "import seaborn as sns\n",
    "from functools import reduce\n",
    "#loading the data using pandas\n",
    "df = pd.read_csv('ongoing_outbreaks.csv')\n",
    "second_df = pd.read_csv('cases_by_age_vac_status.csv')\n",
    "\n",
    "#preview of the data\n",
    "df"
   ]
  },
  {
   "cell_type": "markdown",
   "id": "0e802757",
   "metadata": {},
   "source": [
    "There are a total of 28 outbreak Subgroups. Out of them all, the one with the most outbreaks is the Workplace Subgroup. The subgroup with the least outbreaks is the \"camp-Overnight\""
   ]
  },
  {
   "cell_type": "code",
   "execution_count": 2,
   "id": "a1bc6cba",
   "metadata": {},
   "outputs": [
    {
     "data": {
      "text/plain": [
       "outbreak_subgroup\n",
       "21 Other recreation                 5319\n",
       "15 Retail                           6751\n",
       "2 Hospitals                         9946\n",
       "4 Group Home/Supportive Housing    11519\n",
       "3 Retirement Homes                 15281\n",
       "11 Child care                      16029\n",
       "7 School - Elementary              16564\n",
       "1 Long-Term Care Homes             25905\n",
       "14 Workplace - Other               36403\n",
       "Name: number_ongoing_outbreaks, dtype: int64"
      ]
     },
     "execution_count": 2,
     "metadata": {},
     "output_type": "execute_result"
    }
   ],
   "source": [
    "## Part 1\n",
    "df1 = df.groupby('outbreak_subgroup')['number_ongoing_outbreaks'].sum()\n",
    "df1 = df1.sort_values(ascending=True)\n",
    "df1.tail(9)\n"
   ]
  },
  {
   "cell_type": "code",
   "execution_count": 3,
   "id": "de5eb0d6",
   "metadata": {},
   "outputs": [
    {
     "data": {
      "text/plain": [
       "<AxesSubplot:title={'center':'Outbreaks per subgroup'}, xlabel='outbreak', ylabel='outbreak_subgroup'>"
      ]
     },
     "execution_count": 3,
     "metadata": {},
     "output_type": "execute_result"
    },
    {
     "data": {
      "image/png": "[encoded data removed]",
      "text/plain": [
       "<Figure size 720x432 with 1 Axes>"
      ]
     },
     "metadata": {
      "needs_background": "light"
     },
     "output_type": "display_data"
    }
   ],
   "source": [
    "#Graphical representation\n",
    "sub_groups = df.outbreak_subgroup.unique()\n",
    "plt.figure(figsize=(10,6))\n",
    "plt.xlabel('outbreak')#labelling axis\n",
    "plt.ylabel(\"outbreak_subgroup\")\n",
    "plt.title(\"Outbreaks per subgroup\")\n",
    "\n",
    "df1.plot.barh()"
   ]
  },
  {
   "cell_type": "markdown",
   "id": "c1376d57",
   "metadata": {},
   "source": [
    "## 2 & 3 . According to the data, which group has been the most affected by covid-19?"
   ]
  },
  {
   "cell_type": "code",
   "execution_count": 4,
   "id": "63fc40e1",
   "metadata": {},
   "outputs": [
    {
     "data": {
      "text/plain": [
       "array(['1 Congregate Care', '2 Congregate Living', '3 Education',\n",
       "       '4 Workplace', '5 Recreational', '6 Other/Unknown',\n",
       "       '7 Out of Province Outbreak'], dtype=object)"
      ]
     },
     "execution_count": 4,
     "metadata": {},
     "output_type": "execute_result"
    }
   ],
   "source": [
    "groups = df.outbreak_group.unique()\n",
    "groups"
   ]
  },
  {
   "cell_type": "code",
   "execution_count": 5,
   "id": "ae4e36a6",
   "metadata": {},
   "outputs": [
    {
     "data": {
      "text/plain": [
       "outbreak_group\n",
       "7 Out of Province Outbreak       62\n",
       "6 Other/Unknown                4755\n",
       "5 Recreational                12081\n",
       "2 Congregate Living           22179\n",
       "3 Education                   38581\n",
       "1 Congregate Care             51132\n",
       "4 Workplace                   52197\n",
       "Name: number_ongoing_outbreaks, dtype: int64"
      ]
     },
     "execution_count": 5,
     "metadata": {},
     "output_type": "execute_result"
    }
   ],
   "source": [
    "df3 = df.groupby('outbreak_group')['number_ongoing_outbreaks'].sum()\n",
    "df3 = df3.sort_values(ascending=True)\n",
    "df3"
   ]
  },
  {
   "cell_type": "markdown",
   "id": "fa3394a0",
   "metadata": {},
   "source": [
    "There are 7 groups concluded in this data file. Within the 7, the group most affected by covid-19 was the workplace category.\n",
    "### The top 3 concluded as the following:\n",
    "    1. Workplace\n",
    "    2. Congregate living\n",
    "    3. School\n",
    "### Here are our following reasoning as to why the following had happened:\n",
    "    \n",
    "   ### Workplace: \n",
    "   The workplace is an easy way to spread covid-19 as everyone is in close proximity to one another and are around people that are not part of their family.That means that even though none of your family members have gotten covid, your co-worker could possibly give it to you as you have no clue if they have been around an infected person or not.\n",
    "   ### Congregate Living: \n",
    "   Congregate Living refers to group living. This was the second most affected group by covid-19. This could \n",
    "        possibly be because roomates are not following social distancing protocals and it could also be because each roomate has their own family meaning that they come in contact with more people as compared to a family household.\n",
    "   ### Education:   \n",
    "   This is the third most affected by covid-19 as students are in very close proximty to one another. Alot of younger kids\n",
    "        might not be following social distancing protocals leading to the increase of transmission."
   ]
  },
  {
   "cell_type": "code",
   "execution_count": 6,
   "id": "5e49bc2a",
   "metadata": {},
   "outputs": [
    {
     "data": {
      "text/plain": [
       "<AxesSubplot:title={'center':'Outbreaks per group'}, xlabel='outbreak', ylabel='outbreak_group'>"
      ]
     },
     "execution_count": 6,
     "metadata": {},
     "output_type": "execute_result"
    },
    {
     "data": {
      "image/png": "[encoded data removed]",
      "text/plain": [
       "<Figure size 720x432 with 1 Axes>"
      ]
     },
     "metadata": {
      "needs_background": "light"
     },
     "output_type": "display_data"
    }
   ],
   "source": [
    "\n",
    "plt.figure(figsize=(10,6))\n",
    "plt.xlabel('outbreak')#labelling axis\n",
    "plt.ylabel(\"outbreak_group\")\n",
    "plt.title(\"Outbreaks per group\")\n",
    "\n",
    "df3.plot.barh()"
   ]
  },
  {
   "cell_type": "markdown",
   "id": "18404a2b",
   "metadata": {},
   "source": [
    "## 4. When did the number of outbreaks increase?"
   ]
  },
  {
   "cell_type": "code",
   "execution_count": 7,
   "id": "86c94398",
   "metadata": {},
   "outputs": [
    {
     "data": {
      "text/plain": [
       "499.9640883977901"
      ]
     },
     "execution_count": 7,
     "metadata": {},
     "output_type": "execute_result"
    }
   ],
   "source": [
    "date=df.groupby('date')['number_ongoing_outbreaks'].sum()\n",
    "mean = date.mean()\n",
    "mean"
   ]
  },
  {
   "cell_type": "code",
   "execution_count": 8,
   "id": "b47ec60a",
   "metadata": {},
   "outputs": [
    {
     "data": {
      "text/plain": [
       "<matplotlib.lines.Line2D at 0x7fc8e29e2760>"
      ]
     },
     "execution_count": 8,
     "metadata": {},
     "output_type": "execute_result"
    },
    {
     "name": "stderr",
     "output_type": "stream",
     "text": [
      "Locator attempting to generate 1810 ticks ([-0.4, ..., 361.40000000000003]), which exceeds Locator.MAXTICKS (1000).\n",
      "Locator attempting to generate 1810 ticks ([-0.4, ..., 361.40000000000003]), which exceeds Locator.MAXTICKS (1000).\n",
      "Locator attempting to generate 1810 ticks ([-0.4, ..., 361.40000000000003]), which exceeds Locator.MAXTICKS (1000).\n",
      "Locator attempting to generate 1810 ticks ([-0.4, ..., 361.40000000000003]), which exceeds Locator.MAXTICKS (1000).\n",
      "Locator attempting to generate 1810 ticks ([-0.4, ..., 361.40000000000003]), which exceeds Locator.MAXTICKS (1000).\n",
      "Locator attempting to generate 1810 ticks ([-0.4, ..., 361.40000000000003]), which exceeds Locator.MAXTICKS (1000).\n",
      "Locator attempting to generate 1810 ticks ([-0.4, ..., 361.40000000000003]), which exceeds Locator.MAXTICKS (1000).\n",
      "Locator attempting to generate 1810 ticks ([-0.4, ..., 361.40000000000003]), which exceeds Locator.MAXTICKS (1000).\n",
      "Locator attempting to generate 1810 ticks ([-0.4, ..., 361.40000000000003]), which exceeds Locator.MAXTICKS (1000).\n",
      "Locator attempting to generate 1810 ticks ([-0.4, ..., 361.40000000000003]), which exceeds Locator.MAXTICKS (1000).\n"
     ]
    },
    {
     "data": {
      "image/png": "[encoded data removed]",
      "text/plain": [
       "<Figure size 864x648 with 1 Axes>"
      ]
     },
     "metadata": {
      "needs_background": "light"
     },
     "output_type": "display_data"
    }
   ],
   "source": [
    "fig,ax= plt.subplots()\n",
    "\n",
    "date.plot(kind=\"bar\", ax=ax, color='g',figsize=(12,9))\n",
    "\n",
    "plt.minorticks_on()\n",
    "plt.tick_params(axis='x',which='minor',bottom='off')\n",
    "plt.ylabel(\"Number of Outbreaks\")#labelling axis\n",
    "plt.xlabel(\"date\")\n",
    "plt.title(\"Number of Outbreaks per day\", size=15)\n",
    "\n",
    "# use axhline\n",
    "plt.axhline(mean)"
   ]
  },
  {
   "cell_type": "code",
   "execution_count": 9,
   "id": "5f5822af",
   "metadata": {},
   "outputs": [
    {
     "data": {
      "text/plain": [
       "15082.25"
      ]
     },
     "execution_count": 9,
     "metadata": {},
     "output_type": "execute_result"
    }
   ],
   "source": [
    "df.date = pd.to_datetime(df.date).dt.to_period('m')\n",
    "month_date=df.groupby('date')['number_ongoing_outbreaks'].sum()\n",
    "month_mean = month_date.mean()\n",
    "month_mean\n"
   ]
  },
  {
   "cell_type": "code",
   "execution_count": null,
   "id": "7d794919",
   "metadata": {},
   "outputs": [],
   "source": []
  },
  {
   "cell_type": "code",
   "execution_count": 10,
   "id": "f503103a",
   "metadata": {
    "scrolled": true
   },
   "outputs": [
    {
     "data": {
      "text/plain": [
       "<matplotlib.lines.Line2D at 0x7fc8e1020430>"
      ]
     },
     "execution_count": 10,
     "metadata": {},
     "output_type": "execute_result"
    },
    {
     "data": {
      "image/png": "[encoded data removed]",
      "text/plain": [
       "<Figure size 504x216 with 1 Axes>"
      ]
     },
     "metadata": {
      "needs_background": "light"
     },
     "output_type": "display_data"
    }
   ],
   "source": [
    "fig,ax= plt.subplots()\n",
    "\n",
    "month_date.plot(kind=\"bar\", ax=ax, color='g',figsize=(7,3))\n",
    "\n",
    "plt.minorticks_on()\n",
    "plt.tick_params(axis='x',which='minor',bottom='off')\n",
    "plt.ylabel(\"Number of Outbreaks\")#labelling axis\n",
    "plt.xlabel(\"date\")\n",
    "plt.title(\"Number of Outbreaks per month\", size=15)\n",
    "\n",
    "# use axhline\n",
    "plt.axhline(month_mean)"
   ]
  },
  {
   "cell_type": "markdown",
   "id": "7420a9c3",
   "metadata": {},
   "source": [
    "## Ans:\n",
    "The blue line included in the graph above shows the average amount of cases per month which was 15082 covid infections per month. The first 7 months of outbreaks stayed above the monthy average and after that it dropped. \n",
    "The number of Cases started to increase from 2020-11 till 2021-01 ( 2 months) as after that the cases seemed to have significanlty drop.\n",
    "From the data, a second wave is apparent as when rules started to get a bit lax, from 2021-03 till 2021-04 ( 1 month) cases started to uptrend\n",
    "alot. From that point onwards, the monthly amount of cases significantly dropped. \n"
   ]
  },
  {
   "cell_type": "markdown",
   "id": "2a98554f",
   "metadata": {},
   "source": [
    "## 5.When did the number of outbreaks decrease?"
   ]
  },
  {
   "cell_type": "code",
   "execution_count": 11,
   "id": "9554589c",
   "metadata": {},
   "outputs": [
    {
     "name": "stdout",
     "output_type": "stream",
     "text": [
      "15082.25\n"
     ]
    },
    {
     "data": {
      "text/plain": [
       "date\n",
       "2021-06   -13253.0\n",
       "Freq: M, Name: number_ongoing_outbreaks, dtype: float64"
      ]
     },
     "execution_count": 11,
     "metadata": {},
     "output_type": "execute_result"
    }
   ],
   "source": [
    "print(month_mean)\n",
    "decrease = month_date.diff()\n",
    "decrease = decrease.sort_values()\n",
    "decrease = decrease.head(1)\n",
    "decrease\n"
   ]
  },
  {
   "cell_type": "markdown",
   "id": "44b7f028",
   "metadata": {},
   "source": [
    "## Ans: \n",
    "The number of outbreaks significantly dropped from 2021-05 - 2021-06 as the data suggests, there was a decrease of 13253 cases in \n",
    "June 2021 as from the previous month. From the graph in the previous question, it also suggests that this was after the second wave and the\n",
    "bar graph trend suggests that the cases stayed releatively low afterwards compared to the months prior to June 2021 suggesting a decrease."
   ]
  },
  {
   "cell_type": "markdown",
   "id": "7258ee0e",
   "metadata": {},
   "source": [
    "## 6.The province has been pushing the idea of having a “safe and normal” return to school this september, but has it really been? ( We will compare the average cases and see if there's any influx of cases since School opened)"
   ]
  },
  {
   "cell_type": "code",
   "execution_count": 12,
   "id": "d0f0750f",
   "metadata": {},
   "outputs": [
    {
     "name": "stdout",
     "output_type": "stream",
     "text": [
      "<class 'pandas.core.series.Series'>\n"
     ]
    }
   ],
   "source": [
    "#in this we will be comparing the trend of cases that occured due to school:\n",
    "wow = ['Education']\n",
    "school = df[df['outbreak_group'].str.contains('Education')]\n",
    "school = school[school['outbreak_subgroup'].str.contains('School -')] #narrowing the search down to elementary, secondary, Post-Secondary\n",
    "school.outbreak_subgroup.unique() #showing the different Sub category that we will be analyzing\n",
    "post_secondary = school[school['outbreak_subgroup'].str.contains('School - Post-Secondary')] # level of education\n",
    "post_secondary=post_secondary.groupby('date')['number_ongoing_outbreaks'].sum()\n",
    "secondary = school[school['outbreak_subgroup'].str.contains('School - Secondary')]\n",
    "secondary=secondary.groupby('date')['number_ongoing_outbreaks'].sum()\n",
    "elementary = school[school['outbreak_subgroup'].str.contains('School - Elementary')]\n",
    "elementary=elementary.groupby('date')['number_ongoing_outbreaks'].sum()\n",
    "elementary_secondary = school[school['outbreak_subgroup'].str.contains('School - Elementary/Secondary')]\n",
    "elementary_secondary=elementary_secondary.groupby('date')['number_ongoing_outbreaks'].sum()\n",
    "all_schools = [post_secondary,secondary,elementary,elementary_secondary] # putting all levels of education into an array\n",
    "print(type(post_secondary))"
   ]
  },
  {
   "cell_type": "code",
   "execution_count": null,
   "id": "42c3dc18",
   "metadata": {},
   "outputs": [],
   "source": []
  },
  {
   "cell_type": "code",
   "execution_count": 38,
   "id": "b716dea5",
   "metadata": {},
   "outputs": [
    {
     "data": {
      "text/plain": [
       "<AxesSubplot:title={'center':'outbreaks at post secondary'}, xlabel='date', ylabel='cases'>"
      ]
     },
     "execution_count": 38,
     "metadata": {},
     "output_type": "execute_result"
    },
    {
     "data": {
      "image/png": "[encoded data removed]",
      "text/plain": [
       "<Figure size 504x216 with 1 Axes>"
      ]
     },
     "metadata": {
      "needs_background": "light"
     },
     "output_type": "display_data"
    }
   ],
   "source": [
    "\n",
    "fig,ax= plt.subplots()\n",
    "plt.title('outbreaks at post secondary')\n",
    "plt.xlabel('date')\n",
    "plt.ylabel('cases')\n",
    "post_secondary.plot(kind=\"line\", ax=ax, color='g',figsize=(7,3))"
   ]
  },
  {
   "cell_type": "code",
   "execution_count": null,
   "id": "518e7209",
   "metadata": {},
   "outputs": [],
   "source": []
  },
  {
   "cell_type": "code",
   "execution_count": 39,
   "id": "df37ea5e",
   "metadata": {},
   "outputs": [
    {
     "data": {
      "text/plain": [
       "<AxesSubplot:title={'center':'outbreaks at secondary schools'}, xlabel='date', ylabel='cases'>"
      ]
     },
     "execution_count": 39,
     "metadata": {},
     "output_type": "execute_result"
    },
    {
     "data": {
      "image/png": "[encoded data removed]",
      "text/plain": [
       "<Figure size 504x216 with 1 Axes>"
      ]
     },
     "metadata": {
      "needs_background": "light"
     },
     "output_type": "display_data"
    }
   ],
   "source": [
    "\n",
    "fig,ax= plt.subplots()\n",
    "plt.title('outbreaks at secondary schools')\n",
    "plt.xlabel('date')\n",
    "plt.ylabel('cases')\n",
    "secondary.plot(kind=\"line\", ax=ax, color='g',figsize=(7,3))"
   ]
  },
  {
   "cell_type": "code",
   "execution_count": 40,
   "id": "0bc3cdd9",
   "metadata": {},
   "outputs": [
    {
     "data": {
      "text/plain": [
       "<AxesSubplot:title={'center':'outbreaks at elementary schools'}, xlabel='date', ylabel='cases'>"
      ]
     },
     "execution_count": 40,
     "metadata": {},
     "output_type": "execute_result"
    },
    {
     "data": {
      "image/png": "[encoded data removed]",
      "text/plain": [
       "<Figure size 504x216 with 1 Axes>"
      ]
     },
     "metadata": {
      "needs_background": "light"
     },
     "output_type": "display_data"
    }
   ],
   "source": [
    "fig,ax= plt.subplots()\n",
    "plt.title('outbreaks at elementary schools')\n",
    "plt.xlabel('date')\n",
    "plt.ylabel('cases')\n",
    "elementary.plot(kind=\"line\", ax=ax, color='g',figsize=(7,3))"
   ]
  },
  {
   "cell_type": "code",
   "execution_count": 41,
   "id": "9987c934",
   "metadata": {},
   "outputs": [
    {
     "data": {
      "text/plain": [
       "<AxesSubplot:title={'center':'outbreaks at elementary/secondary schools'}, xlabel='date', ylabel='cases'>"
      ]
     },
     "execution_count": 41,
     "metadata": {},
     "output_type": "execute_result"
    },
    {
     "data": {
      "image/png": "[encoded data removed]",
      "text/plain": [
       "<Figure size 504x216 with 1 Axes>"
      ]
     },
     "metadata": {
      "needs_background": "light"
     },
     "output_type": "display_data"
    }
   ],
   "source": [
    "fig,ax= plt.subplots()\n",
    "plt.title('outbreaks at elementary/secondary schools')\n",
    "plt.xlabel('date')\n",
    "plt.ylabel('cases')\n",
    "elementary_secondary.plot(kind=\"line\", ax=ax, color='g',figsize=(7,3))\n"
   ]
  },
  {
   "cell_type": "code",
   "execution_count": 17,
   "id": "839c5a65",
   "metadata": {},
   "outputs": [],
   "source": [
    "\n",
    "#all_schools=all_schools.groupby('date')['number_ongoing_outbreaks'].sum()\n",
    "#all_schools"
   ]
  },
  {
   "cell_type": "code",
   "execution_count": 18,
   "id": "764da398",
   "metadata": {},
   "outputs": [
    {
     "data": {
      "text/html": [
       "<div>\n",
       "<style scoped>\n",
       "    .dataframe tbody tr th:only-of-type {\n",
       "        vertical-align: middle;\n",
       "    }\n",
       "\n",
       "    .dataframe tbody tr th {\n",
       "        vertical-align: top;\n",
       "    }\n",
       "\n",
       "    .dataframe thead th {\n",
       "        text-align: right;\n",
       "    }\n",
       "</style>\n",
       "<table border=\"1\" class=\"dataframe\">\n",
       "  <thead>\n",
       "    <tr style=\"text-align: right;\">\n",
       "      <th></th>\n",
       "      <th>number_ongoing_outbreaks</th>\n",
       "    </tr>\n",
       "    <tr>\n",
       "      <th>date</th>\n",
       "      <th></th>\n",
       "    </tr>\n",
       "  </thead>\n",
       "  <tbody>\n",
       "    <tr>\n",
       "      <th>2020-11</th>\n",
       "      <td>490</td>\n",
       "    </tr>\n",
       "    <tr>\n",
       "      <th>2020-12</th>\n",
       "      <td>1058</td>\n",
       "    </tr>\n",
       "    <tr>\n",
       "      <th>2021-01</th>\n",
       "      <td>549</td>\n",
       "    </tr>\n",
       "    <tr>\n",
       "      <th>2021-02</th>\n",
       "      <td>194</td>\n",
       "    </tr>\n",
       "    <tr>\n",
       "      <th>2021-03</th>\n",
       "      <td>473</td>\n",
       "    </tr>\n",
       "    <tr>\n",
       "      <th>2021-04</th>\n",
       "      <td>660</td>\n",
       "    </tr>\n",
       "    <tr>\n",
       "      <th>2021-05</th>\n",
       "      <td>71</td>\n",
       "    </tr>\n",
       "    <tr>\n",
       "      <th>2021-06</th>\n",
       "      <td>16</td>\n",
       "    </tr>\n",
       "    <tr>\n",
       "      <th>2021-07</th>\n",
       "      <td>10</td>\n",
       "    </tr>\n",
       "    <tr>\n",
       "      <th>2021-09</th>\n",
       "      <td>190</td>\n",
       "    </tr>\n",
       "    <tr>\n",
       "      <th>2021-10</th>\n",
       "      <td>355</td>\n",
       "    </tr>\n",
       "  </tbody>\n",
       "</table>\n",
       "</div>"
      ],
      "text/plain": [
       "         number_ongoing_outbreaks\n",
       "date                             \n",
       "2020-11                       490\n",
       "2020-12                      1058\n",
       "2021-01                       549\n",
       "2021-02                       194\n",
       "2021-03                       473\n",
       "2021-04                       660\n",
       "2021-05                        71\n",
       "2021-06                        16\n",
       "2021-07                        10\n",
       "2021-09                       190\n",
       "2021-10                       355"
      ]
     },
     "execution_count": 18,
     "metadata": {},
     "output_type": "execute_result"
    }
   ],
   "source": [
    "df1=pd.DataFrame(post_secondary)\n",
    "df2=pd.DataFrame(secondary)\n",
    "df3=pd.DataFrame(elementary)\n",
    "df4=pd.DataFrame(elementary_secondary)\n",
    "df2"
   ]
  },
  {
   "cell_type": "code",
   "execution_count": 19,
   "id": "60b29659",
   "metadata": {},
   "outputs": [
    {
     "data": {
      "text/plain": [
       "PeriodIndex(['2020-11', '2020-12', '2021-01', '2021-02', '2021-03', '2021-04',\n",
       "             '2021-05', '2021-06', '2021-07', '2021-09', '2021-10'],\n",
       "            dtype='period[M]', name='date')"
      ]
     },
     "execution_count": 19,
     "metadata": {},
     "output_type": "execute_result"
    }
   ],
   "source": [
    "df2.index"
   ]
  },
  {
   "cell_type": "code",
   "execution_count": 20,
   "id": "fc71fdeb",
   "metadata": {},
   "outputs": [
    {
     "data": {
      "text/plain": [
       "<Figure size 1080x576 with 0 Axes>"
      ]
     },
     "metadata": {},
     "output_type": "display_data"
    },
    {
     "data": {
      "image/png": "[encoded data removed]",
      "text/plain": [
       "<Figure size 1080x576 with 1 Axes>"
      ]
     },
     "metadata": {
      "needs_background": "light"
     },
     "output_type": "display_data"
    }
   ],
   "source": [
    "plt.figure(figsize=(15,8))\n",
    "\n",
    "plt.figure(figsize=(15,8))\n",
    "df1['hue']='post_secondary'\n",
    "df2['hue']='secondary'\n",
    "df3['hue']='elementary'\n",
    "df4['hue']='elementary_secondary'\n",
    "res=pd.concat([df1,df2,df3,df4]) #concatinating the dataframes\n",
    "res['date']=res.index\n",
    "res=res.sort_index()\n",
    "sns.barplot(x='date',y='number_ongoing_outbreaks',data=res,hue='hue')\n",
    "plt.ylabel(\"outbreaks\")#labelling axis\n",
    "plt.xlabel(\"date\")\n",
    "plt.title(\"outbreaks at different schools\", size=15)\n",
    "plt.show()"
   ]
  },
  {
   "cell_type": "code",
   "execution_count": 21,
   "id": "ff0504ff",
   "metadata": {},
   "outputs": [
    {
     "name": "stdout",
     "output_type": "stream",
     "text": [
      "<class 'pandas.core.frame.DataFrame'>\n"
     ]
    }
   ],
   "source": [
    "print(type(res))"
   ]
  },
  {
   "cell_type": "code",
   "execution_count": 22,
   "id": "1bde8848",
   "metadata": {},
   "outputs": [
    {
     "data": {
      "text/html": [
       "<div>\n",
       "<style scoped>\n",
       "    .dataframe tbody tr th:only-of-type {\n",
       "        vertical-align: middle;\n",
       "    }\n",
       "\n",
       "    .dataframe tbody tr th {\n",
       "        vertical-align: top;\n",
       "    }\n",
       "\n",
       "    .dataframe thead th {\n",
       "        text-align: right;\n",
       "    }\n",
       "</style>\n",
       "<table border=\"1\" class=\"dataframe\">\n",
       "  <thead>\n",
       "    <tr style=\"text-align: right;\">\n",
       "      <th></th>\n",
       "      <th>post_secondary</th>\n",
       "      <th>secondary</th>\n",
       "      <th>elementary</th>\n",
       "      <th>elementary_secondary</th>\n",
       "    </tr>\n",
       "    <tr>\n",
       "      <th>date</th>\n",
       "      <th></th>\n",
       "      <th></th>\n",
       "      <th></th>\n",
       "      <th></th>\n",
       "    </tr>\n",
       "  </thead>\n",
       "  <tbody>\n",
       "    <tr>\n",
       "      <th>2020-11</th>\n",
       "      <td>56</td>\n",
       "      <td>490.0</td>\n",
       "      <td>1878</td>\n",
       "      <td>125.0</td>\n",
       "    </tr>\n",
       "    <tr>\n",
       "      <th>2020-12</th>\n",
       "      <td>113</td>\n",
       "      <td>1058.0</td>\n",
       "      <td>3088</td>\n",
       "      <td>178.0</td>\n",
       "    </tr>\n",
       "    <tr>\n",
       "      <th>2021-01</th>\n",
       "      <td>85</td>\n",
       "      <td>549.0</td>\n",
       "      <td>1268</td>\n",
       "      <td>120.0</td>\n",
       "    </tr>\n",
       "    <tr>\n",
       "      <th>2021-02</th>\n",
       "      <td>31</td>\n",
       "      <td>194.0</td>\n",
       "      <td>560</td>\n",
       "      <td>43.0</td>\n",
       "    </tr>\n",
       "    <tr>\n",
       "      <th>2021-03</th>\n",
       "      <td>110</td>\n",
       "      <td>473.0</td>\n",
       "      <td>2649</td>\n",
       "      <td>60.0</td>\n",
       "    </tr>\n",
       "    <tr>\n",
       "      <th>2021-04</th>\n",
       "      <td>144</td>\n",
       "      <td>660.0</td>\n",
       "      <td>4300</td>\n",
       "      <td>218.0</td>\n",
       "    </tr>\n",
       "    <tr>\n",
       "      <th>2021-05</th>\n",
       "      <td>121</td>\n",
       "      <td>71.0</td>\n",
       "      <td>211</td>\n",
       "      <td>12.0</td>\n",
       "    </tr>\n",
       "    <tr>\n",
       "      <th>2021-06</th>\n",
       "      <td>80</td>\n",
       "      <td>16.0</td>\n",
       "      <td>43</td>\n",
       "      <td>0.0</td>\n",
       "    </tr>\n",
       "    <tr>\n",
       "      <th>2021-08</th>\n",
       "      <td>6</td>\n",
       "      <td>0.0</td>\n",
       "      <td>31</td>\n",
       "      <td>0.0</td>\n",
       "    </tr>\n",
       "    <tr>\n",
       "      <th>2021-09</th>\n",
       "      <td>47</td>\n",
       "      <td>190.0</td>\n",
       "      <td>988</td>\n",
       "      <td>27.0</td>\n",
       "    </tr>\n",
       "    <tr>\n",
       "      <th>2021-10</th>\n",
       "      <td>42</td>\n",
       "      <td>355.0</td>\n",
       "      <td>2360</td>\n",
       "      <td>60.0</td>\n",
       "    </tr>\n",
       "  </tbody>\n",
       "</table>\n",
       "</div>"
      ],
      "text/plain": [
       "         post_secondary  secondary  elementary  elementary_secondary\n",
       "date                                                                \n",
       "2020-11              56      490.0        1878                 125.0\n",
       "2020-12             113     1058.0        3088                 178.0\n",
       "2021-01              85      549.0        1268                 120.0\n",
       "2021-02              31      194.0         560                  43.0\n",
       "2021-03             110      473.0        2649                  60.0\n",
       "2021-04             144      660.0        4300                 218.0\n",
       "2021-05             121       71.0         211                  12.0\n",
       "2021-06              80       16.0          43                   0.0\n",
       "2021-08               6        0.0          31                   0.0\n",
       "2021-09              47      190.0         988                  27.0\n",
       "2021-10              42      355.0        2360                  60.0"
      ]
     },
     "execution_count": 22,
     "metadata": {},
     "output_type": "execute_result"
    }
   ],
   "source": [
    "#new dataframe for comparing at once\n",
    "#df1,df2,df3,df4\n",
    "with_all=pd.DataFrame(post_secondary)\n",
    "with_all.rename(columns={'number_ongoing_outbreaks':'post_secondary'}, inplace=True)\n",
    "with_all['secondary'] =df2['number_ongoing_outbreaks']\n",
    "with_all['elementary'] =df3['number_ongoing_outbreaks']\n",
    "with_all['elementary_secondary'] =df4['number_ongoing_outbreaks']\n",
    "with_all=with_all.fillna(0)\n",
    "with_all"
   ]
  },
  {
   "cell_type": "markdown",
   "id": "2a11f250",
   "metadata": {},
   "source": [
    "Our findings suggest that Elementary school students experienced the most breakouts compared to students in higher educations, this is because it is much harder to get kids to follow the social distancing protocal.\n",
    "During April 2021, the province went into a second lockdown and schools remained close till upcoming year."
   ]
  },
  {
   "cell_type": "markdown",
   "id": "8477e59c",
   "metadata": {},
   "source": [
    "After carefully analyzing all the charts as well as the combined chart at the end. We have concluded that the push of a 'safe and normal' return to school did not hold up to its statement. When the province went into the second lockdown last school year, elementary schools experienced a peak of 4300 breakouts in April. Over the months of May 2021 - August 2021, Students at all levels of educations had less than 300 cases as the lockdown continued. When the government assured that it was safe to return to school, the cases started to rise. From August 2021 to September 2021 there was an increase of 3187% of cases among elementary students while other instituitions did not experience much. The following month received an increase of 238% from the previous amount and now the outbreaks stand at 2360."
   ]
  },
  {
   "cell_type": "markdown",
   "id": "0e0e865e",
   "metadata": {},
   "source": [
    "The age group 0-14 makes 15.3%(link: https://www150.statcan.gc.ca/n1/daily-quotidien/210929/cg-d003-eng.htm) of Ontario's population. The average monthly cases across Ontario are 15,082 outbreaks a month. Onto our previous findings, elementary students made upto (2,360/15,082 X 100) 15.6% of the total cases. That number had gone up 238% from the previous month(6.5% ~ 988 cases from the average). Our findings suggest that ever since the government re-introduced in person learning, the cases amongst elementary students has been in an uptrend and has already reached 54% of last lockdowns all time highs. This goes onto prove that no, school has not been safe and these findings suggest that we might have more problems along the way, potentially as a 3rd lockdown."
   ]
  },
  {
   "cell_type": "markdown",
   "id": "5712ce0a",
   "metadata": {},
   "source": [
    "### Now lets do some further analysis:"
   ]
  },
  {
   "cell_type": "code",
   "execution_count": 23,
   "id": "6dac6107",
   "metadata": {},
   "outputs": [
    {
     "data": {
      "text/plain": [
       "array(['0-11yrs', '12-17yrs', '18-39yrs', '40-59yrs', '60-79yrs', '80+',\n",
       "       'ALL'], dtype=object)"
      ]
     },
     "execution_count": 23,
     "metadata": {},
     "output_type": "execute_result"
    }
   ],
   "source": [
    "#Displaying all the age groups this dataset contains\n",
    "second_df=second_df.fillna(0)\n",
    "second_df.agegroup.unique()"
   ]
  },
  {
   "cell_type": "code",
   "execution_count": 24,
   "id": "6ede367a",
   "metadata": {},
   "outputs": [
    {
     "data": {
      "text/html": [
       "<div>\n",
       "<style scoped>\n",
       "    .dataframe tbody tr th:only-of-type {\n",
       "        vertical-align: middle;\n",
       "    }\n",
       "\n",
       "    .dataframe tbody tr th {\n",
       "        vertical-align: top;\n",
       "    }\n",
       "\n",
       "    .dataframe thead th {\n",
       "        text-align: right;\n",
       "    }\n",
       "</style>\n",
       "<table border=\"1\" class=\"dataframe\">\n",
       "  <thead>\n",
       "    <tr style=\"text-align: right;\">\n",
       "      <th></th>\n",
       "      <th>date</th>\n",
       "      <th>agegroup</th>\n",
       "      <th>cases_unvac_rate_per100K</th>\n",
       "      <th>cases_partial_vac_rate_per100K</th>\n",
       "      <th>cases_full_vac_rate_per100K</th>\n",
       "      <th>cases_unvac_rate_7ma</th>\n",
       "      <th>cases_partial_vac_rate_7ma</th>\n",
       "      <th>cases_full_vac_rate_7ma</th>\n",
       "    </tr>\n",
       "  </thead>\n",
       "  <tbody>\n",
       "    <tr>\n",
       "      <th>0</th>\n",
       "      <td>2021-09-13</td>\n",
       "      <td>0-11yrs</td>\n",
       "      <td>6.24</td>\n",
       "      <td>0.00</td>\n",
       "      <td>0.00</td>\n",
       "      <td>0.00</td>\n",
       "      <td>0.00</td>\n",
       "      <td>0.00</td>\n",
       "    </tr>\n",
       "    <tr>\n",
       "      <th>1</th>\n",
       "      <td>2021-09-13</td>\n",
       "      <td>12-17yrs</td>\n",
       "      <td>13.11</td>\n",
       "      <td>1.92</td>\n",
       "      <td>0.80</td>\n",
       "      <td>0.00</td>\n",
       "      <td>0.00</td>\n",
       "      <td>0.00</td>\n",
       "    </tr>\n",
       "    <tr>\n",
       "      <th>2</th>\n",
       "      <td>2021-09-13</td>\n",
       "      <td>18-39yrs</td>\n",
       "      <td>13.51</td>\n",
       "      <td>6.70</td>\n",
       "      <td>2.00</td>\n",
       "      <td>0.00</td>\n",
       "      <td>0.00</td>\n",
       "      <td>0.00</td>\n",
       "    </tr>\n",
       "    <tr>\n",
       "      <th>3</th>\n",
       "      <td>2021-09-13</td>\n",
       "      <td>40-59yrs</td>\n",
       "      <td>10.91</td>\n",
       "      <td>6.04</td>\n",
       "      <td>1.41</td>\n",
       "      <td>0.00</td>\n",
       "      <td>0.00</td>\n",
       "      <td>0.00</td>\n",
       "    </tr>\n",
       "    <tr>\n",
       "      <th>4</th>\n",
       "      <td>2021-09-13</td>\n",
       "      <td>60-79yrs</td>\n",
       "      <td>9.62</td>\n",
       "      <td>0.00</td>\n",
       "      <td>0.49</td>\n",
       "      <td>0.00</td>\n",
       "      <td>0.00</td>\n",
       "      <td>0.00</td>\n",
       "    </tr>\n",
       "    <tr>\n",
       "      <th>...</th>\n",
       "      <td>...</td>\n",
       "      <td>...</td>\n",
       "      <td>...</td>\n",
       "      <td>...</td>\n",
       "      <td>...</td>\n",
       "      <td>...</td>\n",
       "      <td>...</td>\n",
       "      <td>...</td>\n",
       "    </tr>\n",
       "    <tr>\n",
       "      <th>534</th>\n",
       "      <td>2021-11-28</td>\n",
       "      <td>18-39yrs</td>\n",
       "      <td>18.10</td>\n",
       "      <td>4.43</td>\n",
       "      <td>3.97</td>\n",
       "      <td>13.20</td>\n",
       "      <td>4.96</td>\n",
       "      <td>3.27</td>\n",
       "    </tr>\n",
       "    <tr>\n",
       "      <th>535</th>\n",
       "      <td>2021-11-28</td>\n",
       "      <td>40-59yrs</td>\n",
       "      <td>18.14</td>\n",
       "      <td>8.73</td>\n",
       "      <td>4.15</td>\n",
       "      <td>13.54</td>\n",
       "      <td>6.82</td>\n",
       "      <td>3.44</td>\n",
       "    </tr>\n",
       "    <tr>\n",
       "      <th>536</th>\n",
       "      <td>2021-11-28</td>\n",
       "      <td>60-79yrs</td>\n",
       "      <td>40.53</td>\n",
       "      <td>2.10</td>\n",
       "      <td>2.98</td>\n",
       "      <td>26.99</td>\n",
       "      <td>3.82</td>\n",
       "      <td>2.33</td>\n",
       "    </tr>\n",
       "    <tr>\n",
       "      <th>537</th>\n",
       "      <td>2021-11-28</td>\n",
       "      <td>80+</td>\n",
       "      <td>0.00</td>\n",
       "      <td>0.00</td>\n",
       "      <td>1.85</td>\n",
       "      <td>3.51</td>\n",
       "      <td>0.88</td>\n",
       "      <td>1.52</td>\n",
       "    </tr>\n",
       "    <tr>\n",
       "      <th>538</th>\n",
       "      <td>2021-11-28</td>\n",
       "      <td>ALL</td>\n",
       "      <td>15.79</td>\n",
       "      <td>5.06</td>\n",
       "      <td>3.55</td>\n",
       "      <td>11.89</td>\n",
       "      <td>5.23</td>\n",
       "      <td>2.87</td>\n",
       "    </tr>\n",
       "  </tbody>\n",
       "</table>\n",
       "<p>539 rows × 8 columns</p>\n",
       "</div>"
      ],
      "text/plain": [
       "           date  agegroup  cases_unvac_rate_per100K  \\\n",
       "0    2021-09-13   0-11yrs                      6.24   \n",
       "1    2021-09-13  12-17yrs                     13.11   \n",
       "2    2021-09-13  18-39yrs                     13.51   \n",
       "3    2021-09-13  40-59yrs                     10.91   \n",
       "4    2021-09-13  60-79yrs                      9.62   \n",
       "..          ...       ...                       ...   \n",
       "534  2021-11-28  18-39yrs                     18.10   \n",
       "535  2021-11-28  40-59yrs                     18.14   \n",
       "536  2021-11-28  60-79yrs                     40.53   \n",
       "537  2021-11-28       80+                      0.00   \n",
       "538  2021-11-28       ALL                     15.79   \n",
       "\n",
       "     cases_partial_vac_rate_per100K  cases_full_vac_rate_per100K  \\\n",
       "0                              0.00                         0.00   \n",
       "1                              1.92                         0.80   \n",
       "2                              6.70                         2.00   \n",
       "3                              6.04                         1.41   \n",
       "4                              0.00                         0.49   \n",
       "..                              ...                          ...   \n",
       "534                            4.43                         3.97   \n",
       "535                            8.73                         4.15   \n",
       "536                            2.10                         2.98   \n",
       "537                            0.00                         1.85   \n",
       "538                            5.06                         3.55   \n",
       "\n",
       "     cases_unvac_rate_7ma  cases_partial_vac_rate_7ma  cases_full_vac_rate_7ma  \n",
       "0                    0.00                        0.00                     0.00  \n",
       "1                    0.00                        0.00                     0.00  \n",
       "2                    0.00                        0.00                     0.00  \n",
       "3                    0.00                        0.00                     0.00  \n",
       "4                    0.00                        0.00                     0.00  \n",
       "..                    ...                         ...                      ...  \n",
       "534                 13.20                        4.96                     3.27  \n",
       "535                 13.54                        6.82                     3.44  \n",
       "536                 26.99                        3.82                     2.33  \n",
       "537                  3.51                        0.88                     1.52  \n",
       "538                 11.89                        5.23                     2.87  \n",
       "\n",
       "[539 rows x 8 columns]"
      ]
     },
     "execution_count": 24,
     "metadata": {},
     "output_type": "execute_result"
    }
   ],
   "source": [
    "second_df"
   ]
  },
  {
   "cell_type": "markdown",
   "id": "8ece6cc5",
   "metadata": {},
   "source": [
    "Categories: age group, cases amongst unvacinated rate ( per 100k), cases amongst partially vaccinated rate ( per 100k), cases amongst fully vacinated rate ( per 100k), cases amongst unvaccinated ( 7 day moving average), cases amongst partially vaccinated ( 7 day moving average), cases amongst fully vaccinated ( 7 day moving average).\n",
    "\n",
    "The data is structured in the above categories, they are self explanatory. 7 day moving average refers to the mean of the categorys cases over the past 7 days ( this applies to all the categories that have the 7ma in them)\n"
   ]
  },
  {
   "cell_type": "code",
   "execution_count": 25,
   "id": "8db1a725",
   "metadata": {},
   "outputs": [
    {
     "data": {
      "text/html": [
       "<div>\n",
       "<style scoped>\n",
       "    .dataframe tbody tr th:only-of-type {\n",
       "        vertical-align: middle;\n",
       "    }\n",
       "\n",
       "    .dataframe tbody tr th {\n",
       "        vertical-align: top;\n",
       "    }\n",
       "\n",
       "    .dataframe thead th {\n",
       "        text-align: right;\n",
       "    }\n",
       "</style>\n",
       "<table border=\"1\" class=\"dataframe\">\n",
       "  <thead>\n",
       "    <tr style=\"text-align: right;\">\n",
       "      <th></th>\n",
       "      <th>agegroup</th>\n",
       "      <th>cases per 100k</th>\n",
       "      <th>vaccination status</th>\n",
       "    </tr>\n",
       "  </thead>\n",
       "  <tbody>\n",
       "    <tr>\n",
       "      <th>0</th>\n",
       "      <td>0-11yrs</td>\n",
       "      <td>449.30</td>\n",
       "      <td>unvaccinated</td>\n",
       "    </tr>\n",
       "    <tr>\n",
       "      <th>1</th>\n",
       "      <td>ALL</td>\n",
       "      <td>663.06</td>\n",
       "      <td>unvaccinated</td>\n",
       "    </tr>\n",
       "    <tr>\n",
       "      <th>2</th>\n",
       "      <td>40-59yrs</td>\n",
       "      <td>812.59</td>\n",
       "      <td>unvaccinated</td>\n",
       "    </tr>\n",
       "    <tr>\n",
       "      <th>3</th>\n",
       "      <td>18-39yrs</td>\n",
       "      <td>838.21</td>\n",
       "      <td>unvaccinated</td>\n",
       "    </tr>\n",
       "    <tr>\n",
       "      <th>4</th>\n",
       "      <td>12-17yrs</td>\n",
       "      <td>969.20</td>\n",
       "      <td>unvaccinated</td>\n",
       "    </tr>\n",
       "    <tr>\n",
       "      <th>5</th>\n",
       "      <td>60-79yrs</td>\n",
       "      <td>1268.44</td>\n",
       "      <td>unvaccinated</td>\n",
       "    </tr>\n",
       "    <tr>\n",
       "      <th>6</th>\n",
       "      <td>80+</td>\n",
       "      <td>7692.87</td>\n",
       "      <td>unvaccinated</td>\n",
       "    </tr>\n",
       "  </tbody>\n",
       "</table>\n",
       "</div>"
      ],
      "text/plain": [
       "   agegroup  cases per 100k vaccination status\n",
       "0   0-11yrs          449.30       unvaccinated\n",
       "1       ALL          663.06       unvaccinated\n",
       "2  40-59yrs          812.59       unvaccinated\n",
       "3  18-39yrs          838.21       unvaccinated\n",
       "4  12-17yrs          969.20       unvaccinated\n",
       "5  60-79yrs         1268.44       unvaccinated\n",
       "6       80+         7692.87       unvaccinated"
      ]
     },
     "execution_count": 25,
     "metadata": {},
     "output_type": "execute_result"
    }
   ],
   "source": [
    "\n",
    "unvaccinated = second_df.groupby('agegroup')['cases_unvac_rate_per100K'].sum()\n",
    "unvaccinated = unvaccinated.sort_values(ascending=True)\n",
    "unvaccinated = unvaccinated.to_frame().reset_index()\n",
    "unvaccinated.rename(columns={'cases_unvac_rate_per100K':'cases per 100k'}, inplace=True)\n",
    "unvaccinated['vaccination status']='unvaccinated'\n",
    "unvaccinated"
   ]
  },
  {
   "cell_type": "code",
   "execution_count": 26,
   "id": "3e15b538",
   "metadata": {},
   "outputs": [
    {
     "data": {
      "text/html": [
       "<div>\n",
       "<style scoped>\n",
       "    .dataframe tbody tr th:only-of-type {\n",
       "        vertical-align: middle;\n",
       "    }\n",
       "\n",
       "    .dataframe tbody tr th {\n",
       "        vertical-align: top;\n",
       "    }\n",
       "\n",
       "    .dataframe thead th {\n",
       "        text-align: right;\n",
       "    }\n",
       "</style>\n",
       "<table border=\"1\" class=\"dataframe\">\n",
       "  <thead>\n",
       "    <tr style=\"text-align: right;\">\n",
       "      <th></th>\n",
       "      <th>agegroup</th>\n",
       "      <th>cases per 100k</th>\n",
       "      <th>vaccination status</th>\n",
       "    </tr>\n",
       "  </thead>\n",
       "  <tbody>\n",
       "    <tr>\n",
       "      <th>0</th>\n",
       "      <td>80+</td>\n",
       "      <td>100.26</td>\n",
       "      <td>part_vaccinated</td>\n",
       "    </tr>\n",
       "    <tr>\n",
       "      <th>1</th>\n",
       "      <td>60-79yrs</td>\n",
       "      <td>197.40</td>\n",
       "      <td>part_vaccinated</td>\n",
       "    </tr>\n",
       "    <tr>\n",
       "      <th>2</th>\n",
       "      <td>0-11yrs</td>\n",
       "      <td>267.49</td>\n",
       "      <td>part_vaccinated</td>\n",
       "    </tr>\n",
       "    <tr>\n",
       "      <th>3</th>\n",
       "      <td>ALL</td>\n",
       "      <td>297.82</td>\n",
       "      <td>part_vaccinated</td>\n",
       "    </tr>\n",
       "    <tr>\n",
       "      <th>4</th>\n",
       "      <td>12-17yrs</td>\n",
       "      <td>306.86</td>\n",
       "      <td>part_vaccinated</td>\n",
       "    </tr>\n",
       "    <tr>\n",
       "      <th>5</th>\n",
       "      <td>18-39yrs</td>\n",
       "      <td>310.09</td>\n",
       "      <td>part_vaccinated</td>\n",
       "    </tr>\n",
       "    <tr>\n",
       "      <th>6</th>\n",
       "      <td>40-59yrs</td>\n",
       "      <td>341.06</td>\n",
       "      <td>part_vaccinated</td>\n",
       "    </tr>\n",
       "  </tbody>\n",
       "</table>\n",
       "</div>"
      ],
      "text/plain": [
       "   agegroup  cases per 100k vaccination status\n",
       "0       80+          100.26    part_vaccinated\n",
       "1  60-79yrs          197.40    part_vaccinated\n",
       "2   0-11yrs          267.49    part_vaccinated\n",
       "3       ALL          297.82    part_vaccinated\n",
       "4  12-17yrs          306.86    part_vaccinated\n",
       "5  18-39yrs          310.09    part_vaccinated\n",
       "6  40-59yrs          341.06    part_vaccinated"
      ]
     },
     "execution_count": 26,
     "metadata": {},
     "output_type": "execute_result"
    }
   ],
   "source": [
    "part_vaccinated = second_df.groupby('agegroup')['cases_partial_vac_rate_per100K'].sum()\n",
    "part_vaccinated = part_vaccinated.sort_values(ascending=True)\n",
    "part_vaccinated = part_vaccinated.to_frame().reset_index()\n",
    "part_vaccinated.rename(columns={'cases_partial_vac_rate_per100K':'cases per 100k'}, inplace=True)\n",
    "part_vaccinated['vaccination status']='part_vaccinated'\n",
    "part_vaccinated"
   ]
  },
  {
   "cell_type": "code",
   "execution_count": 27,
   "id": "575d6c9c",
   "metadata": {},
   "outputs": [
    {
     "data": {
      "text/html": [
       "<div>\n",
       "<style scoped>\n",
       "    .dataframe tbody tr th:only-of-type {\n",
       "        vertical-align: middle;\n",
       "    }\n",
       "\n",
       "    .dataframe tbody tr th {\n",
       "        vertical-align: top;\n",
       "    }\n",
       "\n",
       "    .dataframe thead th {\n",
       "        text-align: right;\n",
       "    }\n",
       "</style>\n",
       "<table border=\"1\" class=\"dataframe\">\n",
       "  <thead>\n",
       "    <tr style=\"text-align: right;\">\n",
       "      <th></th>\n",
       "      <th>agegroup</th>\n",
       "      <th>cases per 100k</th>\n",
       "      <th>vaccination status</th>\n",
       "    </tr>\n",
       "  </thead>\n",
       "  <tbody>\n",
       "    <tr>\n",
       "      <th>0</th>\n",
       "      <td>0-11yrs</td>\n",
       "      <td>20.43</td>\n",
       "      <td>vaccinated</td>\n",
       "    </tr>\n",
       "    <tr>\n",
       "      <th>1</th>\n",
       "      <td>12-17yrs</td>\n",
       "      <td>71.42</td>\n",
       "      <td>vaccinated</td>\n",
       "    </tr>\n",
       "    <tr>\n",
       "      <th>2</th>\n",
       "      <td>60-79yrs</td>\n",
       "      <td>101.63</td>\n",
       "      <td>vaccinated</td>\n",
       "    </tr>\n",
       "    <tr>\n",
       "      <th>3</th>\n",
       "      <td>80+</td>\n",
       "      <td>107.85</td>\n",
       "      <td>vaccinated</td>\n",
       "    </tr>\n",
       "    <tr>\n",
       "      <th>4</th>\n",
       "      <td>ALL</td>\n",
       "      <td>131.73</td>\n",
       "      <td>vaccinated</td>\n",
       "    </tr>\n",
       "    <tr>\n",
       "      <th>5</th>\n",
       "      <td>40-59yrs</td>\n",
       "      <td>148.17</td>\n",
       "      <td>vaccinated</td>\n",
       "    </tr>\n",
       "    <tr>\n",
       "      <th>6</th>\n",
       "      <td>18-39yrs</td>\n",
       "      <td>158.17</td>\n",
       "      <td>vaccinated</td>\n",
       "    </tr>\n",
       "  </tbody>\n",
       "</table>\n",
       "</div>"
      ],
      "text/plain": [
       "   agegroup  cases per 100k vaccination status\n",
       "0   0-11yrs           20.43         vaccinated\n",
       "1  12-17yrs           71.42         vaccinated\n",
       "2  60-79yrs          101.63         vaccinated\n",
       "3       80+          107.85         vaccinated\n",
       "4       ALL          131.73         vaccinated\n",
       "5  40-59yrs          148.17         vaccinated\n",
       "6  18-39yrs          158.17         vaccinated"
      ]
     },
     "execution_count": 27,
     "metadata": {},
     "output_type": "execute_result"
    }
   ],
   "source": [
    "vaccinated = second_df.groupby('agegroup')['cases_full_vac_rate_per100K'].sum()\n",
    "vaccinated = vaccinated.sort_values(ascending=True)\n",
    "vaccinated = vaccinated.to_frame().reset_index()\n",
    "vaccinated.rename(columns={'cases_full_vac_rate_per100K':'cases per 100k'}, inplace=True)\n",
    "vaccinated['vaccination status']='vaccinated'\n",
    "vaccinated"
   ]
  },
  {
   "cell_type": "code",
   "execution_count": 28,
   "id": "7483fe13",
   "metadata": {},
   "outputs": [
    {
     "data": {
      "text/html": [
       "<div>\n",
       "<style scoped>\n",
       "    .dataframe tbody tr th:only-of-type {\n",
       "        vertical-align: middle;\n",
       "    }\n",
       "\n",
       "    .dataframe tbody tr th {\n",
       "        vertical-align: top;\n",
       "    }\n",
       "\n",
       "    .dataframe thead th {\n",
       "        text-align: right;\n",
       "    }\n",
       "</style>\n",
       "<table border=\"1\" class=\"dataframe\">\n",
       "  <thead>\n",
       "    <tr style=\"text-align: right;\">\n",
       "      <th></th>\n",
       "      <th>agegroup</th>\n",
       "      <th>cases per 100k</th>\n",
       "      <th>vaccination status</th>\n",
       "    </tr>\n",
       "  </thead>\n",
       "  <tbody>\n",
       "    <tr>\n",
       "      <th>0</th>\n",
       "      <td>0-11yrs</td>\n",
       "      <td>449.30</td>\n",
       "      <td>unvaccinated</td>\n",
       "    </tr>\n",
       "    <tr>\n",
       "      <th>1</th>\n",
       "      <td>ALL</td>\n",
       "      <td>663.06</td>\n",
       "      <td>unvaccinated</td>\n",
       "    </tr>\n",
       "    <tr>\n",
       "      <th>2</th>\n",
       "      <td>40-59yrs</td>\n",
       "      <td>812.59</td>\n",
       "      <td>unvaccinated</td>\n",
       "    </tr>\n",
       "    <tr>\n",
       "      <th>3</th>\n",
       "      <td>18-39yrs</td>\n",
       "      <td>838.21</td>\n",
       "      <td>unvaccinated</td>\n",
       "    </tr>\n",
       "    <tr>\n",
       "      <th>4</th>\n",
       "      <td>12-17yrs</td>\n",
       "      <td>969.20</td>\n",
       "      <td>unvaccinated</td>\n",
       "    </tr>\n",
       "    <tr>\n",
       "      <th>5</th>\n",
       "      <td>60-79yrs</td>\n",
       "      <td>1268.44</td>\n",
       "      <td>unvaccinated</td>\n",
       "    </tr>\n",
       "    <tr>\n",
       "      <th>6</th>\n",
       "      <td>80+</td>\n",
       "      <td>7692.87</td>\n",
       "      <td>unvaccinated</td>\n",
       "    </tr>\n",
       "    <tr>\n",
       "      <th>0</th>\n",
       "      <td>80+</td>\n",
       "      <td>100.26</td>\n",
       "      <td>part_vaccinated</td>\n",
       "    </tr>\n",
       "    <tr>\n",
       "      <th>1</th>\n",
       "      <td>60-79yrs</td>\n",
       "      <td>197.40</td>\n",
       "      <td>part_vaccinated</td>\n",
       "    </tr>\n",
       "    <tr>\n",
       "      <th>2</th>\n",
       "      <td>0-11yrs</td>\n",
       "      <td>267.49</td>\n",
       "      <td>part_vaccinated</td>\n",
       "    </tr>\n",
       "    <tr>\n",
       "      <th>3</th>\n",
       "      <td>ALL</td>\n",
       "      <td>297.82</td>\n",
       "      <td>part_vaccinated</td>\n",
       "    </tr>\n",
       "    <tr>\n",
       "      <th>4</th>\n",
       "      <td>12-17yrs</td>\n",
       "      <td>306.86</td>\n",
       "      <td>part_vaccinated</td>\n",
       "    </tr>\n",
       "    <tr>\n",
       "      <th>5</th>\n",
       "      <td>18-39yrs</td>\n",
       "      <td>310.09</td>\n",
       "      <td>part_vaccinated</td>\n",
       "    </tr>\n",
       "    <tr>\n",
       "      <th>6</th>\n",
       "      <td>40-59yrs</td>\n",
       "      <td>341.06</td>\n",
       "      <td>part_vaccinated</td>\n",
       "    </tr>\n",
       "    <tr>\n",
       "      <th>0</th>\n",
       "      <td>0-11yrs</td>\n",
       "      <td>20.43</td>\n",
       "      <td>vaccinated</td>\n",
       "    </tr>\n",
       "    <tr>\n",
       "      <th>1</th>\n",
       "      <td>12-17yrs</td>\n",
       "      <td>71.42</td>\n",
       "      <td>vaccinated</td>\n",
       "    </tr>\n",
       "    <tr>\n",
       "      <th>2</th>\n",
       "      <td>60-79yrs</td>\n",
       "      <td>101.63</td>\n",
       "      <td>vaccinated</td>\n",
       "    </tr>\n",
       "    <tr>\n",
       "      <th>3</th>\n",
       "      <td>80+</td>\n",
       "      <td>107.85</td>\n",
       "      <td>vaccinated</td>\n",
       "    </tr>\n",
       "    <tr>\n",
       "      <th>4</th>\n",
       "      <td>ALL</td>\n",
       "      <td>131.73</td>\n",
       "      <td>vaccinated</td>\n",
       "    </tr>\n",
       "    <tr>\n",
       "      <th>5</th>\n",
       "      <td>40-59yrs</td>\n",
       "      <td>148.17</td>\n",
       "      <td>vaccinated</td>\n",
       "    </tr>\n",
       "    <tr>\n",
       "      <th>6</th>\n",
       "      <td>18-39yrs</td>\n",
       "      <td>158.17</td>\n",
       "      <td>vaccinated</td>\n",
       "    </tr>\n",
       "  </tbody>\n",
       "</table>\n",
       "</div>"
      ],
      "text/plain": [
       "   agegroup  cases per 100k vaccination status\n",
       "0   0-11yrs          449.30       unvaccinated\n",
       "1       ALL          663.06       unvaccinated\n",
       "2  40-59yrs          812.59       unvaccinated\n",
       "3  18-39yrs          838.21       unvaccinated\n",
       "4  12-17yrs          969.20       unvaccinated\n",
       "5  60-79yrs         1268.44       unvaccinated\n",
       "6       80+         7692.87       unvaccinated\n",
       "0       80+          100.26    part_vaccinated\n",
       "1  60-79yrs          197.40    part_vaccinated\n",
       "2   0-11yrs          267.49    part_vaccinated\n",
       "3       ALL          297.82    part_vaccinated\n",
       "4  12-17yrs          306.86    part_vaccinated\n",
       "5  18-39yrs          310.09    part_vaccinated\n",
       "6  40-59yrs          341.06    part_vaccinated\n",
       "0   0-11yrs           20.43         vaccinated\n",
       "1  12-17yrs           71.42         vaccinated\n",
       "2  60-79yrs          101.63         vaccinated\n",
       "3       80+          107.85         vaccinated\n",
       "4       ALL          131.73         vaccinated\n",
       "5  40-59yrs          148.17         vaccinated\n",
       "6  18-39yrs          158.17         vaccinated"
      ]
     },
     "execution_count": 28,
     "metadata": {},
     "output_type": "execute_result"
    }
   ],
   "source": [
    "combined = pd.concat([unvaccinated,part_vaccinated,vaccinated])\n",
    "combined"
   ]
  },
  {
   "cell_type": "code",
   "execution_count": 29,
   "id": "21e96cab",
   "metadata": {},
   "outputs": [
    {
     "data": {
      "text/html": [
       "<div>\n",
       "<style scoped>\n",
       "    .dataframe tbody tr th:only-of-type {\n",
       "        vertical-align: middle;\n",
       "    }\n",
       "\n",
       "    .dataframe tbody tr th {\n",
       "        vertical-align: top;\n",
       "    }\n",
       "\n",
       "    .dataframe thead th {\n",
       "        text-align: right;\n",
       "    }\n",
       "</style>\n",
       "<table border=\"1\" class=\"dataframe\">\n",
       "  <thead>\n",
       "    <tr style=\"text-align: right;\">\n",
       "      <th></th>\n",
       "      <th>agegroup</th>\n",
       "      <th>cases per 100k</th>\n",
       "      <th>vaccination status</th>\n",
       "    </tr>\n",
       "  </thead>\n",
       "  <tbody>\n",
       "    <tr>\n",
       "      <th>0</th>\n",
       "      <td>0-11yrs</td>\n",
       "      <td>449.30</td>\n",
       "      <td>unvaccinated</td>\n",
       "    </tr>\n",
       "    <tr>\n",
       "      <th>1</th>\n",
       "      <td>ALL</td>\n",
       "      <td>663.06</td>\n",
       "      <td>unvaccinated</td>\n",
       "    </tr>\n",
       "    <tr>\n",
       "      <th>2</th>\n",
       "      <td>40-59yrs</td>\n",
       "      <td>812.59</td>\n",
       "      <td>unvaccinated</td>\n",
       "    </tr>\n",
       "    <tr>\n",
       "      <th>3</th>\n",
       "      <td>18-39yrs</td>\n",
       "      <td>838.21</td>\n",
       "      <td>unvaccinated</td>\n",
       "    </tr>\n",
       "    <tr>\n",
       "      <th>4</th>\n",
       "      <td>12-17yrs</td>\n",
       "      <td>969.20</td>\n",
       "      <td>unvaccinated</td>\n",
       "    </tr>\n",
       "    <tr>\n",
       "      <th>5</th>\n",
       "      <td>60-79yrs</td>\n",
       "      <td>1268.44</td>\n",
       "      <td>unvaccinated</td>\n",
       "    </tr>\n",
       "    <tr>\n",
       "      <th>6</th>\n",
       "      <td>80+</td>\n",
       "      <td>7692.87</td>\n",
       "      <td>unvaccinated</td>\n",
       "    </tr>\n",
       "    <tr>\n",
       "      <th>0</th>\n",
       "      <td>80+</td>\n",
       "      <td>100.26</td>\n",
       "      <td>part_vaccinated</td>\n",
       "    </tr>\n",
       "    <tr>\n",
       "      <th>1</th>\n",
       "      <td>60-79yrs</td>\n",
       "      <td>197.40</td>\n",
       "      <td>part_vaccinated</td>\n",
       "    </tr>\n",
       "    <tr>\n",
       "      <th>2</th>\n",
       "      <td>0-11yrs</td>\n",
       "      <td>267.49</td>\n",
       "      <td>part_vaccinated</td>\n",
       "    </tr>\n",
       "    <tr>\n",
       "      <th>3</th>\n",
       "      <td>ALL</td>\n",
       "      <td>297.82</td>\n",
       "      <td>part_vaccinated</td>\n",
       "    </tr>\n",
       "    <tr>\n",
       "      <th>4</th>\n",
       "      <td>12-17yrs</td>\n",
       "      <td>306.86</td>\n",
       "      <td>part_vaccinated</td>\n",
       "    </tr>\n",
       "    <tr>\n",
       "      <th>5</th>\n",
       "      <td>18-39yrs</td>\n",
       "      <td>310.09</td>\n",
       "      <td>part_vaccinated</td>\n",
       "    </tr>\n",
       "    <tr>\n",
       "      <th>6</th>\n",
       "      <td>40-59yrs</td>\n",
       "      <td>341.06</td>\n",
       "      <td>part_vaccinated</td>\n",
       "    </tr>\n",
       "    <tr>\n",
       "      <th>0</th>\n",
       "      <td>0-11yrs</td>\n",
       "      <td>20.43</td>\n",
       "      <td>vaccinated</td>\n",
       "    </tr>\n",
       "    <tr>\n",
       "      <th>1</th>\n",
       "      <td>12-17yrs</td>\n",
       "      <td>71.42</td>\n",
       "      <td>vaccinated</td>\n",
       "    </tr>\n",
       "    <tr>\n",
       "      <th>2</th>\n",
       "      <td>60-79yrs</td>\n",
       "      <td>101.63</td>\n",
       "      <td>vaccinated</td>\n",
       "    </tr>\n",
       "    <tr>\n",
       "      <th>3</th>\n",
       "      <td>80+</td>\n",
       "      <td>107.85</td>\n",
       "      <td>vaccinated</td>\n",
       "    </tr>\n",
       "    <tr>\n",
       "      <th>4</th>\n",
       "      <td>ALL</td>\n",
       "      <td>131.73</td>\n",
       "      <td>vaccinated</td>\n",
       "    </tr>\n",
       "    <tr>\n",
       "      <th>5</th>\n",
       "      <td>40-59yrs</td>\n",
       "      <td>148.17</td>\n",
       "      <td>vaccinated</td>\n",
       "    </tr>\n",
       "    <tr>\n",
       "      <th>6</th>\n",
       "      <td>18-39yrs</td>\n",
       "      <td>158.17</td>\n",
       "      <td>vaccinated</td>\n",
       "    </tr>\n",
       "  </tbody>\n",
       "</table>\n",
       "</div>"
      ],
      "text/plain": [
       "   agegroup  cases per 100k vaccination status\n",
       "0   0-11yrs          449.30       unvaccinated\n",
       "1       ALL          663.06       unvaccinated\n",
       "2  40-59yrs          812.59       unvaccinated\n",
       "3  18-39yrs          838.21       unvaccinated\n",
       "4  12-17yrs          969.20       unvaccinated\n",
       "5  60-79yrs         1268.44       unvaccinated\n",
       "6       80+         7692.87       unvaccinated\n",
       "0       80+          100.26    part_vaccinated\n",
       "1  60-79yrs          197.40    part_vaccinated\n",
       "2   0-11yrs          267.49    part_vaccinated\n",
       "3       ALL          297.82    part_vaccinated\n",
       "4  12-17yrs          306.86    part_vaccinated\n",
       "5  18-39yrs          310.09    part_vaccinated\n",
       "6  40-59yrs          341.06    part_vaccinated\n",
       "0   0-11yrs           20.43         vaccinated\n",
       "1  12-17yrs           71.42         vaccinated\n",
       "2  60-79yrs          101.63         vaccinated\n",
       "3       80+          107.85         vaccinated\n",
       "4       ALL          131.73         vaccinated\n",
       "5  40-59yrs          148.17         vaccinated\n",
       "6  18-39yrs          158.17         vaccinated"
      ]
     },
     "execution_count": 29,
     "metadata": {},
     "output_type": "execute_result"
    }
   ],
   "source": [
    "\n",
    "\n",
    "combined"
   ]
  },
  {
   "cell_type": "code",
   "execution_count": 30,
   "id": "5dac39d9",
   "metadata": {},
   "outputs": [
    {
     "data": {
      "text/plain": [
       "Int64Index([0, 1, 2, 3, 4, 5, 6, 0, 1, 2, 3, 4, 5, 6, 0, 1, 2, 3, 4, 5, 6], dtype='int64')"
      ]
     },
     "execution_count": 30,
     "metadata": {},
     "output_type": "execute_result"
    }
   ],
   "source": [
    "combined.index"
   ]
  },
  {
   "cell_type": "markdown",
   "id": "8e8cac07",
   "metadata": {},
   "source": [
    "### What can we conclude from the data above?"
   ]
  },
  {
   "cell_type": "code",
   "execution_count": 31,
   "id": "085d189b",
   "metadata": {},
   "outputs": [
    {
     "data": {
      "image/png": "[encoded data removed]",
      "text/plain": [
       "<Figure size 1080x576 with 1 Axes>"
      ]
     },
     "metadata": {
      "needs_background": "light"
     },
     "output_type": "display_data"
    }
   ],
   "source": [
    "plt.figure(figsize=(15,8))\n",
    "combined['agegroup']=combined.index\n",
    "combined=combined.sort_index()\n",
    "sns.barplot(x='agegroup',y='cases per 100k',data=combined,hue='vaccination status')\n",
    "plt.ylabel(\"outbreaks\")#labelling axis\n",
    "plt.xlabel(\"age group\")\n",
    "plt.title(\"cases per vaccination status & age group\", size=15)\n",
    "plt.show()"
   ]
  },
  {
   "cell_type": "markdown",
   "id": "e871a787",
   "metadata": {},
   "source": [
    "0 = 0-11 yrs\n",
    "1 = all yrs\n",
    "2 = 40-59 yrs\n",
    "3 = 18-39 yrs\n",
    "4 = 12-17 yrs\n",
    "5 = 60-79 yrs\n",
    "6 = 80+ yrs"
   ]
  },
  {
   "cell_type": "markdown",
   "id": "b9f8997f",
   "metadata": {},
   "source": [
    "From the above graph it is apparent that unvaccinated elders are at most risk of catching covid, this is more likely because of their age and how as humans when we age, our immune system is weakened.\n",
    "What is apparent from all the categories is that unvaccinated people are more likely to catch coivd. Our focus is mainly on Elementary kids returning to school so lets dive more deeply into it."
   ]
  },
  {
   "cell_type": "code",
   "execution_count": null,
   "id": "7bb87e64",
   "metadata": {},
   "outputs": [],
   "source": []
  },
  {
   "cell_type": "code",
   "execution_count": 33,
   "id": "bbd252b0",
   "metadata": {},
   "outputs": [
    {
     "data": {
      "text/plain": [
       "date\n",
       "2021-09-13     6.24\n",
       "2021-09-14     4.80\n",
       "2021-09-15     4.75\n",
       "2021-09-16     7.24\n",
       "2021-09-17     6.58\n",
       "              ...  \n",
       "2021-11-24     8.60\n",
       "2021-11-25     9.15\n",
       "2021-11-26    12.67\n",
       "2021-11-27    11.94\n",
       "2021-11-28    12.28\n",
       "Name: cases_unvac_rate_per100K, Length: 77, dtype: float64"
      ]
     },
     "execution_count": 33,
     "metadata": {},
     "output_type": "execute_result"
    }
   ],
   "source": [
    "outbreaks_elementary = second_df[second_df['agegroup'].str.contains('0-11yrs')]\n",
    "outbreaks_elementary_unvacc=outbreaks_elementary.groupby('date')['cases_unvac_rate_per100K'].sum()\n",
    "outbreaks_elementary_part_vacc=outbreaks_elementary.groupby('date')['cases_partial_vac_rate_per100K'].sum()\n",
    "outbreaks_elementary_full_vacc=outbreaks_elementary.groupby('date')['cases_full_vac_rate_per100K'].sum()\n",
    "outbreaks_elementary_unvacc #showing the different Sub category that we will be analyzing"
   ]
  },
  {
   "cell_type": "code",
   "execution_count": 42,
   "id": "f1ec7eb4",
   "metadata": {},
   "outputs": [
    {
     "data": {
      "text/plain": [
       "<AxesSubplot:title={'center':'outbreaks rate for unvaccinated elementary students'}, xlabel='date', ylabel='percentage'>"
      ]
     },
     "execution_count": 42,
     "metadata": {},
     "output_type": "execute_result"
    },
    {
     "data": {
      "image/png": "[encoded data removed]",
      "text/plain": [
       "<Figure size 504x216 with 1 Axes>"
      ]
     },
     "metadata": {
      "needs_background": "light"
     },
     "output_type": "display_data"
    }
   ],
   "source": [
    "fig,ax= plt.subplots()\n",
    "plt.title('outbreaks rate for unvaccinated elementary students')\n",
    "plt.xlabel('date')\n",
    "plt.ylabel('percentage')\n",
    "outbreaks_elementary_unvacc.plot(kind=\"line\", ax=ax, color='g',figsize=(7,3))"
   ]
  },
  {
   "cell_type": "code",
   "execution_count": 43,
   "id": "01ccf996",
   "metadata": {},
   "outputs": [
    {
     "data": {
      "text/plain": [
       "<AxesSubplot:title={'center':'outbreaks rate for partly vaccinated elementary students'}, xlabel='date', ylabel='percentage'>"
      ]
     },
     "execution_count": 43,
     "metadata": {},
     "output_type": "execute_result"
    },
    {
     "data": {
      "image/png": "[encoded data removed]",
      "text/plain": [
       "<Figure size 504x216 with 1 Axes>"
      ]
     },
     "metadata": {
      "needs_background": "light"
     },
     "output_type": "display_data"
    }
   ],
   "source": [
    "fig,ax= plt.subplots()\n",
    "plt.title('outbreaks rate for partly vaccinated elementary students')\n",
    "plt.xlabel('date')\n",
    "plt.ylabel('percentage')\n",
    "outbreaks_elementary_part_vacc.plot(kind=\"line\", ax=ax, color='g',figsize=(7,3))"
   ]
  },
  {
   "cell_type": "code",
   "execution_count": 44,
   "id": "78d50921",
   "metadata": {},
   "outputs": [
    {
     "data": {
      "text/plain": [
       "<AxesSubplot:title={'center':'outbreaks rate for vaccinated elementary students'}, xlabel='date', ylabel='percentage'>"
      ]
     },
     "execution_count": 44,
     "metadata": {},
     "output_type": "execute_result"
    },
    {
     "data": {
      "image/png": "[encoded data removed]",
      "text/plain": [
       "<Figure size 504x216 with 1 Axes>"
      ]
     },
     "metadata": {
      "needs_background": "light"
     },
     "output_type": "display_data"
    }
   ],
   "source": [
    "fig,ax= plt.subplots()\n",
    "plt.title('outbreaks rate for vaccinated elementary students')\n",
    "plt.xlabel('date')\n",
    "plt.ylabel('percentage')\n",
    "outbreaks_elementary_full_vacc.plot(kind=\"line\", ax=ax, color='g',figsize=(7,3))"
   ]
  },
  {
   "cell_type": "markdown",
   "id": "496e8ce3",
   "metadata": {},
   "source": [
    "The dates for this dataset started from september 2021 till the end of November. This is sufficient for this research as we are analyzing covids behavior on elementary students as that is when the schools opened up. The findings from the graph above are quite fascinating as the results were not what we had in mind. The line graph for unvaccinated kids catching covid shows that there recently the cases percentage has been increasing\n",
    "\n",
    "The second graph represents the percentage of cases per partly vaccinated. This is what we found interesting as it seems to have low volume and high spikes on certain days.\n",
    "The least activity noted is for the kids that are fully vaccinated. \n",
    "\n",
    "These charts suggest that elementary school seems to be safe for those who are fully as they are not as likely to catch covid as the unvaccinated kids. "
   ]
  },
  {
   "cell_type": "markdown",
   "id": "d983012e",
   "metadata": {},
   "source": [
    "### Potential Data Science\n",
    "\n",
    "There is a lot of potential for data science applications using this data. The ongoing outbreak data can be used as a basis for models of prediction. We can use the data we currently have to prevent future outbreaks from happening. For example if there are more outbreaks happening in schools, we can restrict the access that students and teachers have to schools (make it online). With both of the data sets as well as information we have extracted, we can really help future issues. When school closes down for summer break, school leaders can get ideas on how to prevent future major outbreaks as well as help the schools with the most outbreaks better get protection. What both these major data sets can also help with is future variants of covid, we can better plan ahead for new variants as well as help pin point specific location thats new variants could be as well as see if those areas are vaccinated or not."
   ]
  },
  {
   "cell_type": "markdown",
   "id": "60899bb5",
   "metadata": {},
   "source": [
    "### Conclusion\n",
    "\n",
    "In conclusion, our research on covid-19 outbreaks in Ontario using Data.ontario provided datasets have helped us better understand the virus. With the knowledge and skills we have learnt in our data analysis class have better prepared us in making these discoveries as we were able to efficently process large amounts of data and find out which places have high outbreaks, outbreak trends as well as see if our government was right about the \"safe and normal\" return for elementary students. We believe that like every project, there is always room for improvment. As we look back on this project one thing we could improve on is using an automatic updating data set which updates the charts every week as we believe that covid trends could change at any given time and its important to take current data into account."
   ]
  }
 ],
 "metadata": {
  "kernelspec": {
   "display_name": "Python 3 (ipykernel)",
   "language": "python",
   "name": "python3"
  },
  "language_info": {
   "codemirror_mode": {
    "name": "ipython",
    "version": 3
   },
   "file_extension": ".py",
   "mimetype": "text/x-python",
   "name": "python",
   "nbconvert_exporter": "python",
   "pygments_lexer": "ipython3",
   "version": "3.8.12"
  }
 },
 "nbformat": 4,
 "nbformat_minor": 5
}
